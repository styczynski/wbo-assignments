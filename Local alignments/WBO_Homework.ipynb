{
 "cells": [
  {
   "cell_type": "code",
   "execution_count": 7,
   "metadata": {},
   "outputs": [
    {
     "name": "stdout",
     "output_type": "stream",
     "text": [
      "ACTGTGTGTGACGTAG\n",
      "GTGCTTGTGATGTAGT\n",
      "AAAGTGTCGTGAGTATACC\n",
      "GTGTCGTGAGTATACCCC\n"
     ]
    }
   ],
   "source": [
    "from Bio import SeqIO\n",
    "import khmer\n",
    "\n",
    "FILE_NAME = \"test.fasta\"\n",
    "\n",
    "def kmers(s, k):\n",
    "    ktable = khmer.new_ktable(k)\n",
    "    ktable.consume(s)\n",
    "    return ktable\n",
    "\n",
    "with open(FILE_NAME, \"r\") as handle:\n",
    "    for record in SeqIO.parse(handle, \"fasta\"):\n",
    "        print(record.seq)"
   ]
  },
  {
   "cell_type": "code",
   "execution_count": null,
   "metadata": {},
   "outputs": [],
   "source": []
  }
 ],
 "metadata": {
  "kernelspec": {
   "display_name": "env",
   "language": "python",
   "name": "env"
  },
  "language_info": {
   "codemirror_mode": {
    "name": "ipython",
    "version": 3
   },
   "file_extension": ".py",
   "mimetype": "text/x-python",
   "name": "python",
   "nbconvert_exporter": "python",
   "pygments_lexer": "ipython3",
   "version": "3.6.5"
  }
 },
 "nbformat": 4,
 "nbformat_minor": 2
}
