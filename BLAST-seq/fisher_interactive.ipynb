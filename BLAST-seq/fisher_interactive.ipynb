{
 "cells": [
  {
   "cell_type": "markdown",
   "metadata": {},
   "source": [
    "# Piotr Styczyński WBO - Zadanie 2 (Duże)\n",
    "\n",
    "## Raport\n",
    "\n",
    "Poniższy raport został porządzony w formacie Markdown jako notebook pythonowy w celu ułatwienia wizualnych prezentacji danych.\n",
    "\n",
    "## Rozwiązania i struktura kodu\n",
    "\n",
    "Pliki:\n",
    "* extend.py\n",
    "* fisher.py\n",
    "* scan_pfam.py\n",
    "\n",
    "Odpowiadają za odpowiednie podpunkty zadania. Skrypty używają biblioteki click w celu udostępnienia przyjemnego interfejsu CLI. Rozwiazania wykorzystują shared thread pool aby fetchowanie i obróbka danych była możliwie \"jak najbardziej\" asynchroniczna. Skrypty wspierają podanie wielu plików do przetworzenia a także pobieranie linków:"
   ]
  },
  {
   "cell_type": "code",
   "execution_count": 9,
   "metadata": {},
   "outputs": [
    {
     "name": "stdout",
     "output_type": "stream",
     "text": [
      "Usage: extend.py [OPTIONS] [INPUT]...\n",
      "\n",
      "Options:\n",
      "  -l, --loggingLevel [INFO|DEBUG]\n",
      "                                  Set logging level\n",
      "  -t, --tmp TEXT                  Path to save temporary data. Default is\n",
      "                                  ./workdir\n",
      "  -i, --idThreshold INTEGER       Set minimal identity threshold in percents.\n",
      "                                  Default is 90\n",
      "  -e, --eValue TEXT               Set minimal E-value using scientific\n",
      "                                  notation. Default is 10e-10\n",
      "  --help                          Show this message and exit.\n"
     ]
    }
   ],
   "source": [
    "# Można uruchomić skrypt stąd:\n",
    "!python extend.py \"http://regulomics.mimuw.edu.pl/wp/wp-content/uploads/2019/05/input-z2.fasta_.txt\""
   ]
  },
  {
   "cell_type": "markdown",
   "metadata": {},
   "source": [
    "## Wyniki\n",
    "\n",
    "Omówienie wyników znajduje się poniżej."
   ]
  },
  {
   "cell_type": "code",
   "execution_count": 3,
   "metadata": {},
   "outputs": [],
   "source": [
    "# Zaimportuj plotly i ustaw API KEY\n",
    "import plotly.tools\n",
    "plotly.tools.set_credentials_file(username='styczynski', api_key='oSxsY0BtX3lFusIhgSy0')"
   ]
  },
  {
   "cell_type": "code",
   "execution_count": 5,
   "metadata": {},
   "outputs": [
    {
     "name": "stdout",
     "output_type": "stream",
     "text": [
      "Fisher test of ./data/ext_hmm.csv compared to ./data/nor_hmm.csv\n"
     ]
    }
   ],
   "source": [
    "# Przetwórz dane funkcjami udostępnianymi przez fisher.py\n",
    "import fisher\n",
    "\n",
    "import plotly as py\n",
    "import plotly.graph_objs as go\n",
    "import plotly.plotly as py\n",
    "import plotly.figure_factory as ff\n",
    "\n",
    "DEFAULT_FILE_TMP_FOLDER = \"./workdir\"\n",
    "input = ['./data/ext_hmm.csv', './data/nor_hmm.csv']\n",
    "tmp = DEFAULT_FILE_TMP_FOLDER\n",
    "\n",
    "inputCount = len(input)\n",
    "if inputCount != 2:\n",
    "    print(\"Invalid files number was specified. Please provide exactly two input files.\")\n",
    "    exit(1)\n",
    "\n",
    "inputA = input[0]\n",
    "inputB = input[1]\n",
    "print(\"Fisher test of {} compared to {}\".format(inputA, inputB))\n",
    "\n",
    "tableA = fisher.loadMatrixFromCSV(inputA)\n",
    "tableB = fisher.loadMatrixFromCSV(inputB)   \n",
    "(domainNames, tables) = fisher.normalizeTables([ tableA, tableB ])\n",
    "\n",
    "domainPsCustom = [round(v, 2) for v in fisher.customFisher(domainNames, tables[0], tables[1])]\n",
    "domainPsFisher = [round(v, 2) for v in fisher.scipyFisher(domainNames, tables[0], tables[1])]\n",
    "stats = fisher.perDomainStats(domainNames, tables[0], tables[1])\n",
    "\n",
    "domainNamesF = []\n",
    "for name in domainNames:\n",
    "    if name != '':\n",
    "        domainNamesF.append(name)\n",
    "domainNames = domainNamesF\n",
    "\n",
    "results = [ [r[0], r[1], r[2]] for r in zip(domainNames, domainPsCustom, domainPsFisher) ]\n",
    "results.sort(key=lambda x: x[1])\n",
    "\n",
    "percAStats = []\n",
    "percBStats = []\n",
    "for s in stats:\n",
    "    percAStats.append(s[0])\n",
    "    percBStats.append(s[1])\n"
   ]
  },
  {
   "cell_type": "markdown",
   "metadata": {},
   "source": [
    "### Test Fishera\n",
    "\n",
    "Poniżej znajduje się tabela z wynikami.\n",
    "Wyniki SciPy oraz funkcji podanej w opisie zadania pokrywają się, świadczy to więc o poprawności rozwiązania.\n",
    "\n",
    "Jak widać z przedstawionych danych Helicase_C ma znaczący wynik (mniej - większa istotność) natomiast DUF4291, Cyt-b5 są mniej istotnymi wynikami.\n"
   ]
  },
  {
   "cell_type": "code",
   "execution_count": 6,
   "metadata": {},
   "outputs": [
    {
     "name": "stdout",
     "output_type": "stream",
     "text": [
      "High five! You successfully sent some data to your account on plotly. View your plot in your browser at https://plot.ly/~styczynski/0 or inside your plot.ly account where it is named 'jupyter-table1'\n"
     ]
    },
    {
     "name": "stderr",
     "output_type": "stream",
     "text": [
      "/home/students/inf/p/ps386038/jupyter/env/lib/python3.7/site-packages/IPython/core/display.py:689: UserWarning:\n",
      "\n",
      "Consider using IPython.display.IFrame instead\n",
      "\n"
     ]
    },
    {
     "data": {
      "text/html": [
       "<iframe id=\"igraph\" scrolling=\"no\" style=\"border:none;\" seamless=\"seamless\" src=\"https://plot.ly/~styczynski/0.embed\" height=\"740px\" width=\"100%\"></iframe>"
      ],
      "text/plain": [
       "<chart_studio.tools.PlotlyDisplay object>"
      ]
     },
     "execution_count": 6,
     "metadata": {},
     "output_type": "execute_result"
    }
   ],
   "source": [
    "table = ff.create_table([[\"Domain name\", \"Custom Fisher\", \"SciPy Fisher\"]] + results)\n",
    "py.iplot(table, filename='jupyter-table1')"
   ]
  },
  {
   "cell_type": "markdown",
   "metadata": {},
   "source": [
    "### Procentowa ilość trafień\n",
    "\n",
    "Poniżej widać procentową ilość trafień domeny w stosunku do liczby wszystkich sekwencji.\n",
    "\n",
    "Helicase_C występuje w niemalże wszystkich próbkach oryginalnych i w małej części rozszerzonych sekwencji, natomiast ResIII w obu przypadkach ma podobną czestość występowania.\n",
    "\n"
   ]
  },
  {
   "cell_type": "code",
   "execution_count": 7,
   "metadata": {},
   "outputs": [
    {
     "data": {
      "text/html": [
       "<iframe id=\"igraph\" scrolling=\"no\" style=\"border:none;\" seamless=\"seamless\" src=\"https://plot.ly/~styczynski/2.embed\" height=\"525px\" width=\"100%\"></iframe>"
      ],
      "text/plain": [
       "<chart_studio.tools.PlotlyDisplay object>"
      ]
     },
     "execution_count": 7,
     "metadata": {},
     "output_type": "execute_result"
    }
   ],
   "source": [
    "data = [go.Bar(name=\"% of matches in original\", x=domainNames, y=percAStats), go.Bar(name=\"% of matches in extended\", x=domainNames, y=percBStats)]\n",
    "py.iplot(data, filename='jupyter-basic_bar')"
   ]
  },
  {
   "cell_type": "code",
   "execution_count": null,
   "metadata": {},
   "outputs": [],
   "source": []
  },
  {
   "cell_type": "code",
   "execution_count": null,
   "metadata": {},
   "outputs": [],
   "source": []
  }
 ],
 "metadata": {
  "kernelspec": {
   "display_name": "Python 3",
   "language": "python",
   "name": "python3"
  },
  "language_info": {
   "codemirror_mode": {
    "name": "ipython",
    "version": 3
   },
   "file_extension": ".py",
   "mimetype": "text/x-python",
   "name": "python",
   "nbconvert_exporter": "python",
   "pygments_lexer": "ipython3",
   "version": "3.7.3"
  }
 },
 "nbformat": 4,
 "nbformat_minor": 2
}
